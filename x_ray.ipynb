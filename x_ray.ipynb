{
  "nbformat": 4,
  "nbformat_minor": 0,
  "metadata": {
    "colab": {
      "provenance": [],
      "authorship_tag": "ABX9TyPnCHRtld/4sFHKnpY2L/xY",
      "include_colab_link": true
    },
    "kernelspec": {
      "name": "python3",
      "display_name": "Python 3"
    },
    "language_info": {
      "name": "python"
    },
    "accelerator": "TPU"
  },
  "cells": [
    {
      "cell_type": "markdown",
      "metadata": {
        "id": "view-in-github",
        "colab_type": "text"
      },
      "source": [
        "<a href=\"https://colab.research.google.com/github/Junaidalam2002/Pneumonia_xray_image_classification/blob/main/x_ray.ipynb\" target=\"_parent\"><img src=\"https://colab.research.google.com/assets/colab-badge.svg\" alt=\"Open In Colab\"/></a>"
      ]
    },
    {
      "cell_type": "code",
      "execution_count": 1,
      "metadata": {
        "id": "TAFYKLgcUpdG"
      },
      "outputs": [],
      "source": [
        "import numpy as np # forlinear algebra\n",
        "import matplotlib.pyplot as plt #for plotting things\n",
        "import os\n",
        "from PIL import Image\n",
        "\n",
        "# Keras Libraries\n",
        "import keras\n",
        "from keras.models import Sequential\n",
        "from keras.layers import Conv2D\n",
        "from keras.layers import MaxPooling2D\n",
        "from keras.layers import Flatten\n",
        "from keras.layers import Dense\n",
        "from keras.preprocessing.image import ImageDataGenerator\n",
        "from tensorflow.keras.utils import load_img\n",
        "from sklearn.metrics import classification_report, confusion_matrix"
      ]
    },
    {
      "cell_type": "code",
      "source": [
        "!mkdir -p ~/.kaggle\n",
        "!cp kaggle.json ~/.kaggle/\n",
        "!kaggle datasets download -d paultimothymooney/chest-xray-pneumonia"
      ],
      "metadata": {
        "colab": {
          "base_uri": "https://localhost:8080/"
        },
        "id": "IwU3IeWXhCV-",
        "outputId": "3b4544e2-b30f-4f28-8b66-8065b7f18837"
      },
      "execution_count": 3,
      "outputs": [
        {
          "output_type": "stream",
          "name": "stdout",
          "text": [
            "Warning: Your Kaggle API key is readable by other users on this system! To fix this, you can run 'chmod 600 /root/.kaggle/kaggle.json'\n",
            "Downloading chest-xray-pneumonia.zip to /content\n",
            "100% 2.29G/2.29G [00:18<00:00, 150MB/s]\n",
            "100% 2.29G/2.29G [00:18<00:00, 133MB/s]\n"
          ]
        }
      ]
    },
    {
      "cell_type": "code",
      "source": [
        "import zipfile\n",
        "zip_ref=zipfile.ZipFile('/content/chest-xray-pneumonia.zip','r')\n",
        "zip_ref.extractall('/content')\n",
        "zip_ref.close()"
      ],
      "metadata": {
        "id": "HmR-LixthYvh"
      },
      "execution_count": 4,
      "outputs": []
    },
    {
      "cell_type": "code",
      "source": [
        "train_datagen = ImageDataGenerator(rescale = 1./255,\n",
        "                                   shear_range = 0.2,\n",
        "                                   zoom_range = 0.2,\n",
        "                                   horizontal_flip = True)\n",
        "\n",
        "test_datagen = ImageDataGenerator(rescale = 1./255)  #Image normalization.\n",
        "\n",
        "training_set = train_datagen.flow_from_directory('/content/chest_xray/train',\n",
        "                                                 target_size = (64, 64),\n",
        "                                                 batch_size = 32,\n",
        "                                                 class_mode = 'binary')\n",
        "\n",
        "validation_generator = test_datagen.flow_from_directory('/content/chest_xray/val',\n",
        "    target_size=(64, 64),\n",
        "    batch_size=32,\n",
        "    class_mode='binary')\n",
        "\n",
        "test_set = test_datagen.flow_from_directory('/content/chest_xray/test',\n",
        "                                            target_size = (64, 64),\n",
        "                                            batch_size = 32,\n",
        "                                            class_mode = 'binary')"
      ],
      "metadata": {
        "colab": {
          "base_uri": "https://localhost:8080/"
        },
        "id": "HzaO1hWHiUhu",
        "outputId": "d10f7ef1-1ba7-4edf-82c4-0a01eefe2b4b"
      },
      "execution_count": 5,
      "outputs": [
        {
          "output_type": "stream",
          "name": "stdout",
          "text": [
            "Found 5216 images belonging to 2 classes.\n",
            "Found 16 images belonging to 2 classes.\n",
            "Found 624 images belonging to 2 classes.\n"
          ]
        }
      ]
    },
    {
      "cell_type": "code",
      "source": [
        "cnn = Sequential()\n",
        "\n",
        "#Convolution\n",
        "cnn.add(Conv2D(32, (3, 3), activation=\"relu\", input_shape=(64, 64, 3)))\n",
        "\n",
        "#Pooling\n",
        "cnn.add(MaxPooling2D(pool_size = (2, 2)))\n",
        "\n",
        "# 2nd Convolution\n",
        "cnn.add(Conv2D(32, (3, 3), activation=\"relu\"))\n",
        "\n",
        "# 2nd Pooling layer\n",
        "cnn.add(MaxPooling2D(pool_size = (2, 2)))\n",
        "\n",
        "# Flatten the layer\n",
        "cnn.add(Flatten())\n",
        "\n",
        "# Fully Connected Layers\n",
        "cnn.add(Dense(activation = 'relu', units = 128))\n",
        "cnn.add(Dense(activation = 'sigmoid', units = 1))\n",
        "\n",
        "# Compile the Neural network\n",
        "cnn.compile(optimizer = 'adam', loss = 'binary_crossentropy', metrics = ['accuracy'])"
      ],
      "metadata": {
        "id": "uWcDzURPkHb0"
      },
      "execution_count": 6,
      "outputs": []
    },
    {
      "cell_type": "code",
      "source": [
        "cnn_model = cnn.fit(training_set,\n",
        "                         epochs = 10,\n",
        "                         validation_data = validation_generator)"
      ],
      "metadata": {
        "colab": {
          "base_uri": "https://localhost:8080/"
        },
        "id": "DrDdna9mkUe_",
        "outputId": "1a2ff3fd-c717-4466-adf8-623b9ba2b15e"
      },
      "execution_count": 7,
      "outputs": [
        {
          "output_type": "stream",
          "name": "stdout",
          "text": [
            "Epoch 1/10\n",
            "163/163 [==============================] - 107s 644ms/step - loss: 0.3342 - accuracy: 0.8537 - val_loss: 0.2491 - val_accuracy: 1.0000\n",
            "Epoch 2/10\n",
            "163/163 [==============================] - 104s 637ms/step - loss: 0.2416 - accuracy: 0.8986 - val_loss: 0.5661 - val_accuracy: 0.6250\n",
            "Epoch 3/10\n",
            "163/163 [==============================] - 106s 651ms/step - loss: 0.2094 - accuracy: 0.9199 - val_loss: 0.4159 - val_accuracy: 0.7500\n",
            "Epoch 4/10\n",
            "163/163 [==============================] - 102s 625ms/step - loss: 0.1808 - accuracy: 0.9287 - val_loss: 0.5678 - val_accuracy: 0.6250\n",
            "Epoch 5/10\n",
            "163/163 [==============================] - 103s 629ms/step - loss: 0.1813 - accuracy: 0.9237 - val_loss: 0.2530 - val_accuracy: 0.9375\n",
            "Epoch 6/10\n",
            "163/163 [==============================] - 104s 636ms/step - loss: 0.1693 - accuracy: 0.9316 - val_loss: 0.1999 - val_accuracy: 1.0000\n",
            "Epoch 7/10\n",
            "163/163 [==============================] - 103s 634ms/step - loss: 0.1550 - accuracy: 0.9392 - val_loss: 0.4308 - val_accuracy: 0.6875\n",
            "Epoch 8/10\n",
            "163/163 [==============================] - 112s 690ms/step - loss: 0.1491 - accuracy: 0.9402 - val_loss: 0.5099 - val_accuracy: 0.6875\n",
            "Epoch 9/10\n",
            "163/163 [==============================] - 103s 628ms/step - loss: 0.1478 - accuracy: 0.9442 - val_loss: 0.2187 - val_accuracy: 1.0000\n",
            "Epoch 10/10\n",
            "163/163 [==============================] - 103s 634ms/step - loss: 0.1521 - accuracy: 0.9411 - val_loss: 0.3282 - val_accuracy: 0.8125\n"
          ]
        }
      ]
    },
    {
      "cell_type": "code",
      "source": [
        "import matplotlib.pyplot as plt\n",
        "\n",
        "plt.plot(cnn_model.history['accuracy'],color='red',label='train')\n",
        "plt.plot(cnn_model.history['val_accuracy'],color='blue',label='validation')\n",
        "plt.legend()\n",
        "plt.show()"
      ],
      "metadata": {
        "colab": {
          "base_uri": "https://localhost:8080/",
          "height": 430
        },
        "id": "ZzB3QGb3mLi6",
        "outputId": "f8e5d7eb-dffe-43ed-d2fc-6c962ee70b83"
      },
      "execution_count": 8,
      "outputs": [
        {
          "output_type": "display_data",
          "data": {
            "text/plain": [
              "<Figure size 640x480 with 1 Axes>"
            ],
            "image/png": "[encoded data removed]"
          },
          "metadata": {}
        }
      ]
    },
    {
      "cell_type": "code",
      "source": [
        "test_accu = cnn.evaluate_generator(test_set,steps=624)"
      ],
      "metadata": {
        "colab": {
          "base_uri": "https://localhost:8080/"
        },
        "id": "Qtv7XLmv0JG7",
        "outputId": "bb0c83d0-b26c-492d-e582-33933ad0394e"
      },
      "execution_count": 9,
      "outputs": [
        {
          "output_type": "stream",
          "name": "stderr",
          "text": [
            "<ipython-input-9-bdcfc526b975>:1: UserWarning: `Model.evaluate_generator` is deprecated and will be removed in a future version. Please use `Model.evaluate`, which supports generators.\n",
            "  test_accu = cnn.evaluate_generator(test_set,steps=624)\n",
            "WARNING:tensorflow:Your input ran out of data; interrupting training. Make sure that your dataset or generator can generate at least `steps_per_epoch * epochs` batches (in this case, 624 batches). You may need to use the repeat() function when building your dataset.\n"
          ]
        }
      ]
    },
    {
      "cell_type": "code",
      "source": [
        "print('The testing accuracy is :',test_accu[1]*100, '%')"
      ],
      "metadata": {
        "colab": {
          "base_uri": "https://localhost:8080/"
        },
        "id": "Luz8vDSU0Udv",
        "outputId": "d2baf1b4-2cc3-401c-ca72-dd970315dca5"
      },
      "execution_count": 10,
      "outputs": [
        {
          "output_type": "stream",
          "name": "stdout",
          "text": [
            "The testing accuracy is : 85.73718070983887 %\n"
          ]
        }
      ]
    },
    {
      "cell_type": "code",
      "source": [
        "import cv2\n",
        "test_img = cv2.imread('/content/chest_xray/val/NORMAL/NORMAL2-IM-1437-0001.jpeg')"
      ],
      "metadata": {
        "id": "pkKelD6R9wKb"
      },
      "execution_count": 20,
      "outputs": []
    },
    {
      "cell_type": "code",
      "source": [
        "test_img = cv2.resize(test_img,(64,64))\n",
        "test_input = test_img.reshape((1,64,64,3))"
      ],
      "metadata": {
        "id": "YVa4i539_LPI"
      },
      "execution_count": 21,
      "outputs": []
    },
    {
      "cell_type": "code",
      "source": [
        "cnn.predict(test_input)"
      ],
      "metadata": {
        "colab": {
          "base_uri": "https://localhost:8080/"
        },
        "id": "BpR-S83m-vuo",
        "outputId": "d2c07057-1bd2-4efd-d3fc-018047f9d6b5"
      },
      "execution_count": 22,
      "outputs": [
        {
          "output_type": "stream",
          "name": "stdout",
          "text": [
            "1/1 [==============================] - 0s 28ms/step\n"
          ]
        },
        {
          "output_type": "execute_result",
          "data": {
            "text/plain": [
              "array([[0.]], dtype=float32)"
            ]
          },
          "metadata": {},
          "execution_count": 22
        }
      ]
    }
  ]
}